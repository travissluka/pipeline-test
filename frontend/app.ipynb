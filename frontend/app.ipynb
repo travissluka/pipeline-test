{
 "cells": [
  {
   "cell_type": "markdown",
   "id": "23df818d",
   "metadata": {},
   "source": [
    "The JCSDA Joint Testbed Diagnostics (JTD) is a service for uploading and analyzing experiment diagnostics for easy comparison across agencies of DA systems utilizing JEDI. JTD provides data visualization for common diagnostic use cases while also allowing advanced users ways to process raw data to generate visualizations for unanticipated cases.\n",
    "\n",
    "**This phase of the website is an advanced mockup only.** Full functionality should be available in early 2022."
   ]
  }
 ],
 "metadata": {
  "kernelspec": {
   "display_name": "Python 3 (ipykernel)",
   "language": "python",
   "name": "python3"
  },
  "language_info": {
   "codemirror_mode": {
    "name": "ipython",
    "version": 3
   },
   "file_extension": ".py",
   "mimetype": "text/x-python",
   "name": "python",
   "nbconvert_exporter": "python",
   "pygments_lexer": "ipython3",
   "version": "3.9.6"
  }
 },
 "nbformat": 4,
 "nbformat_minor": 5
}
